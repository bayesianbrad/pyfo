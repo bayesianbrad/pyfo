{
 "cells": [
  {
   "cell_type": "code",
   "execution_count": 12,
   "metadata": {},
   "outputs": [],
   "source": [
    "class temp(object):\n",
    "    \n",
    "    def __init__(self, cls,x):\n",
    "        self.testclass  = cls\n",
    "        self.method1 = self.testclass.method1\n",
    "        self.method2 = self.testclass.method2\n",
    "        self.method3 = self.testclass.method3\n",
    "        self.x     = x + 1\n",
    "    \n",
    "    def do_something(self):\n",
    "        print('----in temp class do_something method ----')\n",
    "        print(self.method1(self.x))\n",
    "    def do_somethingelse(self,y):\n",
    "        print('----in temp class do_somethingelse method ----')\n",
    "        print(self.method2(y))\n",
    "    def call_method3(self):\n",
    "        print('---in temp class call_method3---')\n",
    "        print('Evaluating method3 of base in temp... ', self.method3(self.x))\n",
    "\n",
    "class base():\n",
    "    \n",
    "    @classmethod\n",
    "    def method1(self,x):\n",
    "        print(x, ' is printing from method 1')\n",
    "    @classmethod\n",
    "    def method2(self,x):\n",
    "        print(x, ' is printing from method 2')\n",
    "    @classmethod\n",
    "    def method3(self,x):\n",
    "        print('-----method 3 printing----')\n",
    "        self.method2(x)\n",
    "        \n",
    "\n",
    "class interact(object):\n",
    "    \n",
    "    def __init__(self, cls, z):\n",
    "        self.base = cls()\n",
    "        self.temp = temp(self.base,z)\n",
    "        self.z  = z\n",
    "    \n",
    "    def do_in_temp(self):\n",
    "        print('\\n---- in method do in temp ----')\n",
    "        self.temp.do_something()\n",
    "        self.temp.do_somethingelse(self.z)\n",
    "        self.temp.call_method3()\n",
    "    def do_in_base(self):\n",
    "        print('\\n---- in method do in base ----')\n",
    "        self.base.method1(self.z)\n",
    "        self.base.method2(self.z)\n",
    "        \n",
    "        \n",
    "        "
   ]
  },
  {
   "cell_type": "code",
   "execution_count": 14,
   "metadata": {},
   "outputs": [
    {
     "name": "stdout",
     "output_type": "stream",
     "text": [
      "\n",
      "---- in method do in temp ----\n",
      "----in temp class do_something method ----\n",
      "2  is printing from method 1\n",
      "None\n",
      "----in temp class do_somethingelse method ----\n",
      "1  is printing from method 2\n",
      "None\n",
      "---in temp class call_method3---\n",
      "-----method 3 printing----\n",
      "2  is printing from method 2\n",
      "Evaluating method3 of base in temp...  None\n",
      "\n",
      "---- in method do in base ----\n",
      "1  is printing from method 1\n",
      "1  is printing from method 2\n",
      "-----method 3 printing----\n",
      "1  is printing from method 2\n"
     ]
    }
   ],
   "source": [
    "dhmc = interact(base, z=1)\n",
    "dhmc.do_in_temp()\n",
    "dhmc.do_in_base()\n",
    "\n",
    "bases = base.method3(x=1)\n"
   ]
  },
  {
   "cell_type": "code",
   "execution_count": null,
   "metadata": {},
   "outputs": [],
   "source": []
  }
 ],
 "metadata": {
  "kernelspec": {
   "display_name": "Python [conda root]",
   "language": "python",
   "name": "conda-root-py"
  },
  "language_info": {
   "codemirror_mode": {
    "name": "ipython",
    "version": 3
   },
   "file_extension": ".py",
   "mimetype": "text/x-python",
   "name": "python",
   "nbconvert_exporter": "python",
   "pygments_lexer": "ipython3",
   "version": "3.5.4"
  }
 },
 "nbformat": 4,
 "nbformat_minor": 2
}
